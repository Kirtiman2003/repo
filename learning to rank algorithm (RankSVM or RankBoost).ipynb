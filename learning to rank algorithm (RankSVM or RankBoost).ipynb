{
 "cells": [
  {
   "cell_type": "code",
   "execution_count": 2,
   "id": "a440282d",
   "metadata": {},
   "outputs": [
    {
     "name": "stdout",
     "output_type": "stream",
     "text": [
      "Accuracy:  1.0\n"
     ]
    }
   ],
   "source": [
    "from sklearn.datasets import make_classification\n",
    "from sklearn.model_selection import train_test_split\n",
    "from sklearn.preprocessing import StandardScaler\n",
    "from sklearn.svm import SVC\n",
    "from sklearn.metrics import accuracy_score\n",
    "def train_ranksvm(X_train,y_train):\n",
    "    svm=SVC(kernel='linear')\n",
    "    svm.fit(X_train,y_train)\n",
    "    return svm\n",
    "def predict_ranksvm(model,X_test):\n",
    "    rankings=model.decision_function(X_test)\n",
    "    return rankings\n",
    "if __name__=='__main__':\n",
    "    X,y=make_classification(n_samples=100,n_features=20,n_classes=2,random_state=42)\n",
    "    X_train,X_test,y_train,y_test=train_test_split(X,y, test_size=0.2,random_state=42)\n",
    "    scaler=StandardScaler()\n",
    "    X_train_scaled=scaler.fit_transform(X_train)\n",
    "    X_test_scaled=scaler.transform(X_test)\n",
    "    ranksvm_model=train_ranksvm(X_train_scaled,y_train)\n",
    "    rankings=predict_ranksvm(ranksvm_model,X_test_scaled)\n",
    "    y_pred=(rankings>0).astype(int)\n",
    "    accuracy=accuracy_score(y_test,y_pred)\n",
    "    print(\"Accuracy: \",accuracy)\n"
   ]
  },
  {
   "cell_type": "code",
   "execution_count": null,
   "id": "eac082f0",
   "metadata": {},
   "outputs": [],
   "source": []
  }
 ],
 "metadata": {
  "kernelspec": {
   "display_name": "Python 3 (ipykernel)",
   "language": "python",
   "name": "python3"
  },
  "language_info": {
   "codemirror_mode": {
    "name": "ipython",
    "version": 3
   },
   "file_extension": ".py",
   "mimetype": "text/x-python",
   "name": "python",
   "nbconvert_exporter": "python",
   "pygments_lexer": "ipython3",
   "version": "3.11.5"
  }
 },
 "nbformat": 4,
 "nbformat_minor": 5
}
