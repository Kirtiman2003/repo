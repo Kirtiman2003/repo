{
 "cells": [
  {
   "cell_type": "code",
   "execution_count": 1,
   "id": "3358f470",
   "metadata": {},
   "outputs": [
    {
     "name": "stdout",
     "output_type": "stream",
     "text": [
      "Silhouette Score: 0.05363059427741623\n",
      "\n",
      "Cluster 1\n",
      "- Machine learning is the study of computer algorithms that improves automatically through experience.\n",
      "- Deep learning is a subset of machine learning.\n",
      "- Reinforcement learning is a type of machine learning algorithm that teaches an agent how to make decisions in an environment by rewarding desired behaviors.\n",
      "\n",
      "Cluster 2\n",
      "- Information retrieval is the process of obtaining information from a collection of documents.\n",
      "- Text mining is the process of deriving high-quality information from text.\n",
      "- Data clustering is the task of dividing a set of objects into clusters.\n",
      "- Hierarchical clustering builds a tree of clusters.\n",
      "- K-means clustering is a method of vector quantization.\n",
      "\n",
      "Cluster 3\n",
      "- Natural language processing is a field of artificial intelligence.\n",
      "- Computer vision is a field of study that enables computers to interpret and understand the visual world.\n"
     ]
    }
   ],
   "source": [
    "import numpy as np\n",
    "from sklearn.feature_extraction.text import TfidfVectorizer\n",
    "from sklearn.cluster import KMeans\n",
    "from sklearn.metrics import silhouette_score\n",
    "docs = [\n",
    "    \"Machine learning is the study of computer algorithms that improves automatically through experience.\",\n",
    "    \"Deep learning is a subset of machine learning.\",\n",
    "    \"Natural language processing is a field of artificial intelligence.\",\n",
    "    \"Computer vision is a field of study that enables computers to interpret and understand the visual world.\",\n",
    "    \"Reinforcement learning is a type of machine learning algorithm that teaches an agent how to make decisions in an environment by rewarding desired behaviors.\",\n",
    "    \"Information retrieval is the process of obtaining information from a collection of documents.\",\n",
    "    \"Text mining is the process of deriving high-quality information from text.\",\n",
    "    \"Data clustering is the task of dividing a set of objects into clusters.\",\n",
    "    \"Hierarchical clustering builds a tree of clusters.\",\n",
    "    \"K-means clustering is a method of vector quantization.\"\n",
    "]\n",
    "vec= TfidfVectorizer()\n",
    "X = vec.fit_transform(docs)\n",
    "k = 3\n",
    "kmeans = KMeans(n_clusters = k)\n",
    "kmeans.fit(X)\n",
    "silhouette_avg = silhouette_score(X, kmeans.labels_)\n",
    "print(\"Silhouette Score:\", silhouette_avg)\n",
    "for i in range(k):\n",
    "    cluster_docs_indices = np.where(kmeans.labels_ == i)[0]\n",
    "    cluster_docs = [docs[x] for x in cluster_docs_indices]\n",
    "    print(f\"\\nCluster {i+1}\")\n",
    "    for doc in cluster_docs:\n",
    "        print(\"-\", doc)"
   ]
  },
  {
   "cell_type": "code",
   "execution_count": null,
   "id": "12d4fc35",
   "metadata": {},
   "outputs": [],
   "source": []
  }
 ],
 "metadata": {
  "kernelspec": {
   "display_name": "Python 3 (ipykernel)",
   "language": "python",
   "name": "python3"
  },
  "language_info": {
   "codemirror_mode": {
    "name": "ipython",
    "version": 3
   },
   "file_extension": ".py",
   "mimetype": "text/x-python",
   "name": "python",
   "nbconvert_exporter": "python",
   "pygments_lexer": "ipython3",
   "version": "3.12.4"
  }
 },
 "nbformat": 4,
 "nbformat_minor": 5
}
